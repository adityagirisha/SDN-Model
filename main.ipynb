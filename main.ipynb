{
 "cells": [
  {
   "cell_type": "code",
   "execution_count": 1,
   "metadata": {},
   "outputs": [
    {
     "name": "stdout",
     "output_type": "stream",
     "text": [
      "done\n"
     ]
    }
   ],
   "source": [
    "import numpy as np\n",
    "from src.NN import NeuralNet\n",
    "import src.utils as utils\n",
    "print(\"done\")"
   ]
  },
  {
   "cell_type": "code",
   "execution_count": 2,
   "metadata": {},
   "outputs": [
    {
     "name": "stdout",
     "output_type": "stream",
     "text": [
      "done\n"
     ]
    }
   ],
   "source": [
    "# Settings\n",
    "hidden_layers = [5] \n",
    "eta = 0.1 \n",
    "n_epochs = 1\n",
    "n_folds = 3 \n",
    "seed_crossval = 666 \n",
    "seed_weights = 1\n",
    "\n",
    "print(\"done\")"
   ]
  },
  {
   "cell_type": "code",
   "execution_count": 3,
   "metadata": {},
   "outputs": [
    {
     "name": "stdout",
     "output_type": "stream",
     "text": [
      "Reading Data...\n",
      "[[4.89766739e-04 7.02020206e-01 4.85443870e-04 9.12998879e-05\n",
      "  6.99901712e-01 1.31547483e-01]\n",
      " [4.78628701e-04 6.78290009e-01 4.37670254e-04 2.60963815e-04\n",
      "  6.31120507e-01 3.76309821e-01]\n",
      " [3.87154054e-04 5.58276146e-01 4.55184319e-04 3.51902008e-04\n",
      "  6.56375788e-01 5.07442695e-01]\n",
      " ...\n",
      " [0.00000000e+00 0.00000000e+00 0.00000000e+00 0.00000000e+00\n",
      "  0.00000000e+00 0.00000000e+00]\n",
      " [0.00000000e+00 0.00000000e+00 0.00000000e+00 0.00000000e+00\n",
      "  0.00000000e+00 0.00000000e+00]\n",
      " [0.00000000e+00 0.00000000e+00 0.00000000e+00 0.00000000e+00\n",
      "  0.00000000e+00 0.00000000e+00]] [1 1 1 ... 0 0 0]\n",
      "[[4.89766739e-04 7.02020206e-01 4.85443870e-04 9.12998879e-05\n",
      "  6.99901712e-01 1.31547483e-01]\n",
      " [4.78628701e-04 6.78290009e-01 4.37670254e-04 2.60963815e-04\n",
      "  6.31120507e-01 3.76309821e-01]\n",
      " [3.87154054e-04 5.58276146e-01 4.55184319e-04 3.51902008e-04\n",
      "  6.56375788e-01 5.07442695e-01]\n",
      " ...\n",
      " [0.00000000e+00 0.00000000e+00 0.00000000e+00 0.00000000e+00\n",
      "  0.00000000e+00 0.00000000e+00]\n",
      " [0.00000000e+00 0.00000000e+00 0.00000000e+00 0.00000000e+00\n",
      "  0.00000000e+00 0.00000000e+00]\n",
      " [0.00000000e+00 0.00000000e+00 0.00000000e+00 0.00000000e+00\n",
      "  0.00000000e+00 0.00000000e+00]] [1 1 1 ... 0 0 0] 2\n",
      "done\n"
     ]
    }
   ],
   "source": [
    "print(\"Reading Data...\")\n",
    "\n",
    "X, y, n_classes=utils.read_csv(target_name=\"Label\", normalize=True)\n",
    "print(X,y,n_classes)\n",
    "N, d = X.shape\n",
    "idx_all = np.arange(0, N)\n",
    "idx_folds = utils.crossval_folds(N, n_folds, seed=seed_crossval)\n",
    "# print(n_classes)\n",
    "print(\"done\")\n"
   ]
  },
  {
   "cell_type": "code",
   "execution_count": 4,
   "metadata": {
    "scrolled": true
   },
   "outputs": [
    {
     "name": "stdout",
     "output_type": "stream",
     "text": [
      "Starting Networks...\n",
      "Cross-validating with 3 folds...\n",
      "uploaded\n",
      " Fold 1: acc_train = 49.35%, acc_valid = 51.31% (n_train = 1915, n_valid = 957)\n",
      "uploaded\n",
      " Fold 2: acc_train = 50.44%, acc_valid = 49.11% (n_train = 1915, n_valid = 957)\n",
      "uploaded\n",
      " Fold 3: acc_train = 50.23%, acc_valid = 49.53% (n_train = 1915, n_valid = 957)\n",
      "Results-->acc_train_avg = 50.01%, acc_valid_avg = 49.98%\n",
      "done\n"
     ]
    }
   ],
   "source": [
    "print(\"Starting Networks...\")\n",
    "\n",
    "acc_train, acc_valid = list(), list()\n",
    "print(\"Cross-validating with {} folds...\".format(len(idx_folds)))\n",
    "for i, idx_valid in enumerate(idx_folds):\n",
    "      \n",
    "    idx_train = np.delete(idx_all, idx_valid)\n",
    "    X_train, y_train = X[idx_train], y[idx_train]\n",
    "    X_valid, y_valid = X[idx_valid], y[idx_valid]\n",
    "    \n",
    "    \n",
    "    model = NeuralNet(input_dim=d, output_dim=n_classes,\n",
    "               hidden_layers=hidden_layers, seed=seed_weights)\n",
    "    \n",
    "    model.train(X_train, y_train, eta=eta, n_epochs=n_epochs)\n",
    "    \n",
    "    utils.storeNN(i,model.getNetworkDetails())\n",
    "    x=utils.loadNN(i)\n",
    "    \n",
    "    ypred_train = model.predict(X_train)\n",
    "    ypred_valid = model.predict(X_valid)\n",
    "    acc_train.append(100*np.sum(y_train==ypred_train)/len(y_train))\n",
    "    acc_valid.append(100*np.sum(y_valid==ypred_valid)/len(y_valid))\n",
    "    print(\" Fold {}: acc_train = {:.2f}%, acc_valid = {:.2f}% (n_train = {}, n_valid = {})\".format(\n",
    "        i+1, acc_train[-1], acc_valid[-1], len(X_train), len(X_valid)))\n",
    "\n",
    "print(\"Results-->acc_train_avg = {:.2f}%, acc_valid_avg = {:.2f}%\".format(\n",
    "    sum(acc_train)/float(len(acc_train)), sum(acc_valid)/float(len(acc_valid))))\n",
    "      \n",
    "print(\"done\")"
   ]
  },
  {
   "cell_type": "code",
   "execution_count": null,
   "metadata": {},
   "outputs": [],
   "source": []
  },
  {
   "cell_type": "code",
   "execution_count": null,
   "metadata": {},
   "outputs": [],
   "source": []
  }
 ],
 "metadata": {
  "kernelspec": {
   "display_name": "Python 3",
   "language": "python",
   "name": "python3"
  },
  "language_info": {
   "codemirror_mode": {
    "name": "ipython",
    "version": 3
   },
   "file_extension": ".py",
   "mimetype": "text/x-python",
   "name": "python",
   "nbconvert_exporter": "python",
   "pygments_lexer": "ipython3",
   "version": "3.7.4"
  }
 },
 "nbformat": 4,
 "nbformat_minor": 2
}
