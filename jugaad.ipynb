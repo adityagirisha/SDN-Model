{
 "cells": [
  {
   "cell_type": "code",
   "execution_count": 19,
   "metadata": {},
   "outputs": [
    {
     "name": "stdout",
     "output_type": "stream",
     "text": [
      "       Source IP Source Port  Destination IP Destination Port Protocol  \\\n",
      "1        8.6.0.1           0         8.0.6.4                0        0   \n",
      "2   192.168.50.8       60824  172.217.10.130              443        6   \n",
      "3   192.168.50.6       33854    192.168.50.4            31336        6   \n",
      "4   192.168.50.6         540    192.168.50.4              684        6   \n",
      "5     172.16.0.5       33858    192.168.50.4             2823        6   \n",
      "6     172.16.0.5        8397    192.168.50.4             8397        6   \n",
      "7     172.16.0.5       33859    192.168.50.4            43758        6   \n",
      "8     172.16.0.5       42127    192.168.50.4            42127        6   \n",
      "9     172.16.0.5       58573    192.168.50.4            58573        6   \n",
      "10    172.16.0.5       33860    192.168.50.4            11204        6   \n",
      "11    172.16.0.5       33861    192.168.50.4             1410        6   \n",
      "12    172.16.0.5       35594    192.168.50.4            35594        6   \n",
      "\n",
      "   Flow Duration Average Packet Size   Label  \n",
      "1       69997400                   0  BENIGN  \n",
      "2       62369732               39.85  BENIGN  \n",
      "3              1                   9     Syn  \n",
      "4            101                 7.5     Syn  \n",
      "5              0                   9     Syn  \n",
      "6       45373601                 6.6     Syn  \n",
      "7            100                 7.5     Syn  \n",
      "8       43242213                 6.3     Syn  \n",
      "9       36920175                 6.6     Syn  \n",
      "10             1                   9     Syn  \n",
      "11             1                   9     Syn  \n",
      "12      31286927                6.75     Syn  \n",
      "[0 0 1 1 1 1 1 1 1 1 1 1]\n"
     ]
    }
   ],
   "source": [
    "import numpy as np\n",
    "import pandas as pd\n",
    "from sklearn.model_selection import train_test_split\n",
    "from sklearn import preprocessing\n",
    "from sklearn.utils import shuffle\n",
    "import pickle\n",
    "\n",
    "colnames = [ 'Source IP',  'Source Port',  'Destination IP',  'Destination Port',  'Protocol'\n",
    "             , 'Timestamp',  'Flow Duration',  'Total Fwd Packets',  'Total Backward Packets', \n",
    "             'Total Length of Fwd Packets', 'Total Length of Bwd Packets', 'Flow Packets/s', 'Fwd Packets/s',  \n",
    "             'Bwd Packets/s',  'Average Packet Size',  'Fwd Header Length.1',  'Label']\n",
    "target_name=\"Label\"\n",
    "\n",
    "df=pd.read_csv(\"data/juggad.csv\", names=colnames,dtype={'Source IP':str,'Destination IP':str})\n",
    "df = df.iloc[1:]\n",
    "if list(df.columns.values).count(target_name) != 1: \n",
    "    print(\"No target Label Found!\")\n",
    "    \n",
    "df = df[[ 'Source IP',  'Source Port',  'Destination IP',  'Destination Port',  'Protocol'\n",
    "         ,  'Flow Duration' ,'Average Packet Size', 'Label']]\n",
    "\n",
    "print(df)\n",
    "columnsToEncode = list(df.select_dtypes(include=['category', 'object']))  \n",
    "le = preprocessing.LabelEncoder()\n",
    "for feature in columnsToEncode:\n",
    "    try:\n",
    "        df[feature]=df[feature].astype(str)\n",
    "        df[feature] = le.fit_transform(df[feature])\n",
    "    except Exception as e:\n",
    "        print ('error:'+ feature)\n",
    "\n",
    "target2idx = {target: idx for idx, target in enumerate(sorted(list(set(df[target_name].values))))}\n",
    "X = df.drop([target_name], axis=1).values\n",
    "X = (X - X.mean(axis=0)) / X.std(axis=0)\n",
    "y = np.vectorize(lambda x: target2idx[x])(df[target_name].values)\n",
    "n_classes = len(target2idx.keys())\n",
    "\n",
    "N, d = X.shape\n",
    "# print(X)\n",
    "print(y)"
   ]
  },
  {
   "cell_type": "code",
   "execution_count": 20,
   "metadata": {},
   "outputs": [],
   "source": [
    "import numpy as np\n",
    "from src.NN import NN\n",
    "import src.utils as utils"
   ]
  },
  {
   "cell_type": "code",
   "execution_count": 21,
   "metadata": {},
   "outputs": [
    {
     "name": "stdout",
     "output_type": "stream",
     "text": [
      "network uploaded\n",
      "[0 0 0 0 1 1 1 1 1 1 1 1]\n"
     ]
    }
   ],
   "source": [
    "model = NN(input_dim=d, output_dim=n_classes,\n",
    "               hidden_layers=[5], seed=1)\n",
    "\n",
    "x=utils.loadNN(1)\n",
    "model.setNetworkDetails(x)\n",
    "\n",
    "ypred = model.predict(X)\n",
    "print(ypred)"
   ]
  },
  {
   "cell_type": "code",
   "execution_count": null,
   "metadata": {},
   "outputs": [],
   "source": [
    "\n",
    "\n",
    " "
   ]
  },
  {
   "cell_type": "code",
   "execution_count": null,
   "metadata": {},
   "outputs": [],
   "source": [
    "\n"
   ]
  },
  {
   "cell_type": "code",
   "execution_count": null,
   "metadata": {},
   "outputs": [],
   "source": []
  },
  {
   "cell_type": "code",
   "execution_count": null,
   "metadata": {},
   "outputs": [],
   "source": []
  }
 ],
 "metadata": {
  "kernelspec": {
   "display_name": "Python 3",
   "language": "python",
   "name": "python3"
  },
  "language_info": {
   "codemirror_mode": {
    "name": "ipython",
    "version": 3
   },
   "file_extension": ".py",
   "mimetype": "text/x-python",
   "name": "python",
   "nbconvert_exporter": "python",
   "pygments_lexer": "ipython3",
   "version": "3.7.4"
  }
 },
 "nbformat": 4,
 "nbformat_minor": 2
}
