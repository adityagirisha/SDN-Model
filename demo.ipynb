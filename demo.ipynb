{
 "cells": [
  {
   "cell_type": "code",
   "execution_count": 27,
   "metadata": {},
   "outputs": [
    {
     "name": "stdout",
     "output_type": "stream",
     "text": [
      "[['960' '1384320' '873' '53' '1257466' '75044']\n",
      " ['1736' '2503312' '869' '259' '1253098' '373478']\n",
      " ['757' '1091594' '0' '0' '0' '0']\n",
      " ['868' '1251656' '0' '8' '0' '1032']\n",
      " ['867' '1250214' '869' '137' '1253098' '197554']]\n",
      "[[5.12907467e-04 7.39612567e-01 4.66425228e-04 2.83167664e-05\n",
      "  6.71837188e-01 4.00944041e-02]\n",
      " [6.14679270e-04 8.86367507e-01 3.07693713e-04 9.17061813e-05\n",
      "  4.43694334e-01 1.32240313e-01]\n",
      " [6.93481109e-04 9.99999760e-01 0.00000000e+00 0.00000000e+00\n",
      "  0.00000000e+00 0.00000000e+00]\n",
      " [6.93480874e-04 9.99999420e-01 0.00000000e+00 6.39152879e-06\n",
      "  0.00000000e+00 8.24507214e-04]\n",
      " [4.86777716e-04 7.01933466e-01 4.87900617e-04 7.69187394e-05\n",
      "  7.03552690e-01 1.10916822e-01]]\n",
      "uploaded\n"
     ]
    }
   ],
   "source": [
    "import numpy as np\n",
    "import pandas as pd\n",
    "from sklearn.model_selection import train_test_split\n",
    "from sklearn import preprocessing\n",
    "from sklearn.utils import shuffle\n",
    "import pickle\n",
    "\n",
    "colnames=['flow_packet_count','flow_byte_count','rx_packets','tx_packets','rx_bytes','tx_bytes','Label']\n",
    "target_name=\"Label\"\n",
    "\n",
    "df=pd.read_csv(\"demo.csv\", names=colnames)\n",
    "df = df.iloc[1:]\n",
    "if list(df.columns.values).count(target_name) != 1: \n",
    "    print(\"No target Label Found!\")\n",
    "    \n",
    "\n",
    "\n",
    "\n",
    "\n",
    "df = df.drop([target_name], axis=1).values\n",
    "print(df)\n",
    "X=preprocessing.normalize(df)\n",
    "print(X)\n",
    "# columnsToEncode = list(df.select_dtypes(include=['category', 'object'])) \n",
    "# le = preprocessing.LabelEncoder()\n",
    "# for feature in columnsToEncode:\n",
    "#     try:\n",
    "#         df[feature]=df[feature].astype(str)\n",
    "#         df[feature] = le.fit_transform(df[feature])\n",
    "#     except Exception as e:\n",
    "#         print ('error:'+ feature)\n",
    "\n",
    "# target2idx = {target: idx for idx, target in enumerate(sorted(list(set(df[target_name].values))))}\n",
    "# X = df.drop([target_name], axis=1).values\n",
    "# X = (X - X.mean(axis=0)) / X.std(axis=0)\n",
    "# y = np.vectorize(lambda x: target2idx[x])(df[target_name].values)\n",
    "# n_classes = len(target2idx.keys())\n",
    "\n",
    "\n",
    "file_name=\"models/save_file1.pkl\"\n",
    "with open(file_name, 'wb') as output:\n",
    "    pickle.dump(X, output, pickle.HIGHEST_PROTOCOL)\n",
    "print(\"uploaded\")\n",
    "\n",
    "\n",
    "N, d = X.shape\n",
    "# print(X)\n",
    "# print(y)"
   ]
  },
  {
   "cell_type": "code",
   "execution_count": 1,
   "metadata": {},
   "outputs": [],
   "source": [
    "import numpy as np\n",
    "from src.NN import NeuralNet\n",
    "import src.utils as utils"
   ]
  },
  {
   "cell_type": "code",
   "execution_count": 21,
   "metadata": {},
   "outputs": [
    {
     "name": "stdout",
     "output_type": "stream",
     "text": [
      "network uploaded\n",
      "[1 1 1 1 1]\n"
     ]
    }
   ],
   "source": [
    "model = NeuralNet(input_dim=6, output_dim=2,\n",
    "               hidden_layers=[5], seed=1)\n",
    "\n",
    "x=utils.loadNN(1)\n",
    "model.setNetworkDetails(x)\n",
    "\n",
    "ypred = model.predict(X)\n",
    "print(ypred)"
   ]
  },
  {
   "cell_type": "code",
   "execution_count": null,
   "metadata": {},
   "outputs": [],
   "source": [
    "\n",
    "\n",
    " "
   ]
  },
  {
   "cell_type": "code",
   "execution_count": null,
   "metadata": {},
   "outputs": [],
   "source": [
    "\n"
   ]
  },
  {
   "cell_type": "code",
   "execution_count": null,
   "metadata": {},
   "outputs": [],
   "source": []
  },
  {
   "cell_type": "code",
   "execution_count": null,
   "metadata": {},
   "outputs": [],
   "source": []
  }
 ],
 "metadata": {
  "kernelspec": {
   "display_name": "Python 3",
   "language": "python",
   "name": "python3"
  },
  "language_info": {
   "codemirror_mode": {
    "name": "ipython",
    "version": 3
   },
   "file_extension": ".py",
   "mimetype": "text/x-python",
   "name": "python",
   "nbconvert_exporter": "python",
   "pygments_lexer": "ipython3",
   "version": "3.7.4"
  }
 },
 "nbformat": 4,
 "nbformat_minor": 2
}
